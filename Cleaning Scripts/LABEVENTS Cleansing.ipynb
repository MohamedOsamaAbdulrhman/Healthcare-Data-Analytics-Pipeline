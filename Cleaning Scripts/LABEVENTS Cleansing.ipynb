{
 "cells": [
  {
   "cell_type": "code",
   "execution_count": 2,
   "id": "22f45dba-ea5a-49b0-aa1b-5d1023fd5e6f",
   "metadata": {},
   "outputs": [
    {
     "name": "stdout",
     "output_type": "stream",
     "text": [
      "Remaining NaNs:\n",
      "row_id        0\n",
      "subject_id    0\n",
      "hadm_id       0\n",
      "itemid        0\n",
      "charttime     0\n",
      "value         0\n",
      "valuenum      0\n",
      "valueuom      0\n",
      "flag          0\n",
      "dtype: int64\n",
      "row_id: int64\n",
      "subject_id: int64\n",
      "hadm_id: int64\n",
      "itemid: int64\n",
      "charttime: string\n",
      "value: dictionary<values=string, indices=int16, ordered=0>\n",
      "valuenum: double\n",
      "valueuom: dictionary<values=string, indices=int8, ordered=0>\n",
      "flag: dictionary<values=string, indices=int8, ordered=0>\n",
      "-- schema metadata --\n",
      "pandas: '{\"index_columns\": [{\"kind\": \"range\", \"name\": null, \"start\": 0, \"' + 1394\n"
     ]
    }
   ],
   "source": [
    "import pandas as pd\n",
    "import pyarrow.parquet as pq\n",
    "import pyarrow as pa\n",
    "\n",
    "# Load the CSV\n",
    "df = pd.read_csv(r'F:\\ITI\\Big Data\\Project\\mimic-iii-clinical-database-demo-1.4\\LABEVENTS.csv')\n",
    "\n",
    "# Convert charttime to datetime, then to Hive-compatible string\n",
    "df['charttime'] = pd.to_datetime(df['charttime'], errors='coerce').dt.strftime('%Y-%m-%d %H:%M:%S')\n",
    "df['charttime'] = df['charttime'].fillna('9999-12-31 00:00:00')\n",
    "\n",
    "# Fill valuenum with -1\n",
    "df['valuenum'] = pd.to_numeric(df['valuenum'], errors='coerce').fillna(-1)\n",
    "\n",
    "# Fill itemid and hadm_id with -1 and convert to nullable int\n",
    "df['itemid'] = pd.to_numeric(df['itemid'], errors='coerce').fillna(-1).astype('Int64')\n",
    "df['hadm_id'] = pd.to_numeric(df['hadm_id'], errors='coerce').fillna(-1).astype('Int64')\n",
    "\n",
    "# Fill value, valueuom, flag with 'Unknown' and convert to category\n",
    "for col in ['value', 'valueuom', 'flag']:\n",
    "    df[col] = df[col].astype('category')\n",
    "    df[col] = df[col].cat.add_categories('Unknown')\n",
    "    df[col] = df[col].fillna('Unknown')\n",
    "\n",
    "# Print remaining NaNs\n",
    "print(\"Remaining NaNs:\")\n",
    "print(df.isna().sum())\n",
    "\n",
    "# Convert to Arrow Table and write as Parquet\n",
    "table = pa.Table.from_pandas(df)\n",
    "pq.write_table(table, r'F:\\ITI\\Big Data\\Project\\mimic-iii-clinical-database-demo-1.4\\LABEVENTS.parquet')\n",
    "\n",
    "# Show schema\n",
    "print(table.schema)"
   ]
  },
  {
   "cell_type": "code",
   "execution_count": null,
   "id": "e625b7aa-e89f-4cca-9307-d649c6ad6d30",
   "metadata": {},
   "outputs": [],
   "source": []
  }
 ],
 "metadata": {
  "kernelspec": {
   "display_name": "Python 3 (ipykernel)",
   "language": "python",
   "name": "python3"
  },
  "language_info": {
   "codemirror_mode": {
    "name": "ipython",
    "version": 3
   },
   "file_extension": ".py",
   "mimetype": "text/x-python",
   "name": "python",
   "nbconvert_exporter": "python",
   "pygments_lexer": "ipython3",
   "version": "3.12.7"
  }
 },
 "nbformat": 4,
 "nbformat_minor": 5
}
