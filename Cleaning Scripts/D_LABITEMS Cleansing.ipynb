{
 "cells": [
  {
   "cell_type": "code",
   "execution_count": null,
   "id": "5394aca5-98ca-4b2f-b797-5febbc0b4b7d",
   "metadata": {},
   "outputs": [],
   "source": [
    "import pandas as pd\n",
    "import pyarrow.parquet as pq\n",
    "import pyarrow as pa\n",
    "\n",
    "# Load CSV\n",
    "df = pd.read_csv(r'F:\\ITI\\Big Data\\Project\\mimic-iii-clinical-database-demo-1.4\\D_LABITEMS.csv')\n",
    "\n",
    "# Convert string columns to category and fill NaNs with 'Unknown'\n",
    "cat_cols = ['label', 'fluid', 'category', 'loinc_code']\n",
    "for col in cat_cols:\n",
    "    df[col] = df[col].astype('category')\n",
    "    df[col] = df[col].cat.add_categories('Unknown')\n",
    "    df[col] = df[col].fillna('Unknown')\n",
    "\n",
    "# Show any remaining NaNs (should be none)\n",
    "print(\"Remaining NaN values:\")\n",
    "print(df.isna().sum())\n",
    "\n",
    "# Convert to Apache Arrow table\n",
    "table = pa.Table.from_pandas(df)\n",
    "\n",
    "# Save to Parquet format in the same folder\n",
    "pq.write_table(table, r'F:\\ITI\\Big Data\\Project\\mimic-iii-clinical-database-demo-1.4\\D_LABITEMS.parquet')\n",
    "\n",
    "# Show schema\n",
    "print(table.schema)"
   ]
  }
 ],
 "metadata": {
  "kernelspec": {
   "display_name": "Python 3 (ipykernel)",
   "language": "python",
   "name": "python3"
  },
  "language_info": {
   "codemirror_mode": {
    "name": "ipython",
    "version": 3
   },
   "file_extension": ".py",
   "mimetype": "text/x-python",
   "name": "python",
   "nbconvert_exporter": "python",
   "pygments_lexer": "ipython3",
   "version": "3.12.7"
  }
 },
 "nbformat": 4,
 "nbformat_minor": 5
}
