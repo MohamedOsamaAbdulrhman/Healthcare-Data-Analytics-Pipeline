{
 "cells": [
  {
   "cell_type": "code",
   "execution_count": 2,
   "id": "f72dad0c-1006-46a0-8965-568c53933630",
   "metadata": {},
   "outputs": [
    {
     "name": "stdout",
     "output_type": "stream",
     "text": [
      "Remaining NaNs:\n",
      "row_id         0\n",
      "subject_id     0\n",
      "gender         0\n",
      "dob            0\n",
      "dod            0\n",
      "dod_hosp       0\n",
      "dod_ssn        0\n",
      "expire_flag    0\n",
      "dtype: int64\n",
      "row_id: int64\n",
      "subject_id: int64\n",
      "gender: dictionary<values=string, indices=int8, ordered=0>\n",
      "dob: string\n",
      "dod: string\n",
      "dod_hosp: string\n",
      "dod_ssn: string\n",
      "expire_flag: bool\n",
      "-- schema metadata --\n",
      "pandas: '{\"index_columns\": [{\"kind\": \"range\", \"name\": null, \"start\": 0, \"' + 1198\n"
     ]
    }
   ],
   "source": [
    "import pandas as pd\n",
    "import pyarrow.parquet as pq\n",
    "import pyarrow as pa\n",
    "\n",
    "# Read the CSV\n",
    "df = pd.read_csv(r'F:\\ITI\\Big Data\\Project\\mimic-iii-clinical-database-demo-1.4\\PATIENTS.csv')\n",
    "\n",
    "# Convert date columns to datetime then to Hive-compatible string format\n",
    "date_cols = ['dob', 'dod', 'dod_hosp', 'dod_ssn']\n",
    "for col in date_cols:\n",
    "    df[col] = pd.to_datetime(df[col], errors='coerce').dt.strftime('%Y-%m-%d %H:%M:%S')\n",
    "    df[col] = df[col].fillna('9999-12-31 00:00:00')\n",
    "\n",
    "# Convert gender to category and fill missing with 'Unknown'\n",
    "df['gender'] = df['gender'].astype('category')\n",
    "df['gender'] = df['gender'].cat.add_categories('Unknown')\n",
    "df['gender'] = df['gender'].fillna('Unknown')\n",
    "\n",
    "# Convert expire_flag to boolean (nullable)\n",
    "df['expire_flag'] = df['expire_flag'].astype('boolean')\n",
    "\n",
    "# Print remaining NaNs\n",
    "print(\"Remaining NaNs:\")\n",
    "print(df.isna().sum())\n",
    "\n",
    "# Convert to Arrow Table\n",
    "table = pa.Table.from_pandas(df)\n",
    "\n",
    "# Save as Parquet\n",
    "pq.write_table(table, r'F:\\ITI\\Big Data\\Project\\mimic-iii-clinical-database-demo-1.4\\PATIENTS.parquet')\n",
    "\n",
    "# Print schema\n",
    "print(table.schema)"
   ]
  },
  {
   "cell_type": "code",
   "execution_count": null,
   "id": "b1a43298-423f-4275-8e3e-359e75fd6be0",
   "metadata": {},
   "outputs": [],
   "source": []
  }
 ],
 "metadata": {
  "kernelspec": {
   "display_name": "Python 3 (ipykernel)",
   "language": "python",
   "name": "python3"
  },
  "language_info": {
   "codemirror_mode": {
    "name": "ipython",
    "version": 3
   },
   "file_extension": ".py",
   "mimetype": "text/x-python",
   "name": "python",
   "nbconvert_exporter": "python",
   "pygments_lexer": "ipython3",
   "version": "3.12.7"
  }
 },
 "nbformat": 4,
 "nbformat_minor": 5
}
