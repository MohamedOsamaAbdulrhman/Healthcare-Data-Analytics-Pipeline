{
 "cells": [
  {
   "cell_type": "code",
   "execution_count": 1,
   "id": "f3a18cbd-42c3-4825-aecf-9fbbf878089a",
   "metadata": {},
   "outputs": [
    {
     "name": "stdout",
     "output_type": "stream",
     "text": [
      "Remaining NaN values:\n",
      "row_id            0\n",
      "subject_id        0\n",
      "hadm_id           0\n",
      "icustay_id        0\n",
      "dbsource          0\n",
      "first_careunit    0\n",
      "last_careunit     0\n",
      "first_wardid      0\n",
      "last_wardid       0\n",
      "intime            0\n",
      "outtime           0\n",
      "los               0\n",
      "dtype: int64\n",
      "row_id: int64\n",
      "subject_id: int64\n",
      "hadm_id: int64\n",
      "icustay_id: int64\n",
      "dbsource: dictionary<values=string, indices=int8, ordered=0>\n",
      "first_careunit: dictionary<values=string, indices=int8, ordered=0>\n",
      "last_careunit: dictionary<values=string, indices=int8, ordered=0>\n",
      "first_wardid: int64\n",
      "last_wardid: int64\n",
      "intime: string\n",
      "outtime: string\n",
      "los: double\n",
      "-- schema metadata --\n",
      "pandas: '{\"index_columns\": [{\"kind\": \"range\", \"name\": null, \"start\": 0, \"' + 1769\n"
     ]
    }
   ],
   "source": [
    "import pandas as pd\n",
    "import pyarrow.parquet as pq\n",
    "import pyarrow as pa\n",
    "\n",
    "# Read CSV\n",
    "df = pd.read_csv(r'F:\\ITI\\Big Data\\Project\\mimic-iii-clinical-database-demo-1.4\\ICUSTAYS.csv')\n",
    "\n",
    "# Convert intime and outtime to Hive-compatible datetime strings\n",
    "df['intime'] = pd.to_datetime(df['intime'], errors='coerce').dt.strftime('%Y-%m-%d %H:%M:%S')\n",
    "df['outtime'] = pd.to_datetime(df['outtime'], errors='coerce').dt.strftime('%Y-%m-%d %H:%M:%S')\n",
    "\n",
    "# Fill missing intime/outtime with sentinel\n",
    "df['intime'] = df['intime'].fillna('9999-12-31 00:00:00')\n",
    "df['outtime'] = df['outtime'].fillna('9999-12-31 00:00:00')\n",
    "\n",
    "# Fill missing los (length of stay) with -1\n",
    "df['los'] = pd.to_numeric(df['los'], errors='coerce').fillna(-1)\n",
    "\n",
    "# Fill missing ward IDs with -1 and convert to nullable integer\n",
    "df['first_wardid'] = pd.to_numeric(df['first_wardid'], errors='coerce').fillna(-1).astype('Int64')\n",
    "df['last_wardid'] = pd.to_numeric(df['last_wardid'], errors='coerce').fillna(-1).astype('Int64')\n",
    "\n",
    "# Categorical columns\n",
    "cat_cols = ['dbsource', 'first_careunit', 'last_careunit']\n",
    "for col in cat_cols:\n",
    "    df[col] = df[col].astype('category')\n",
    "    df[col] = df[col].cat.add_categories('Unknown')\n",
    "    df[col] = df[col].fillna('Unknown')\n",
    "\n",
    "# Show any remaining nulls\n",
    "print(\"Remaining NaN values:\")\n",
    "print(df.isna().sum())\n",
    "\n",
    "# Convert to Arrow Table\n",
    "table = pa.Table.from_pandas(df)\n",
    "\n",
    "# Save to Parquet in the same folder\n",
    "pq.write_table(table, r'F:\\ITI\\Big Data\\Project\\mimic-iii-clinical-database-demo-1.4\\ICUSTAYS.parquet')\n",
    "\n",
    "# Print schema for verification\n",
    "print(table.schema)"
   ]
  },
  {
   "cell_type": "code",
   "execution_count": null,
   "id": "0dd79ee5-5ecb-44ec-aa2c-a3363659552b",
   "metadata": {},
   "outputs": [],
   "source": []
  }
 ],
 "metadata": {
  "kernelspec": {
   "display_name": "Python 3 (ipykernel)",
   "language": "python",
   "name": "python3"
  },
  "language_info": {
   "codemirror_mode": {
    "name": "ipython",
    "version": 3
   },
   "file_extension": ".py",
   "mimetype": "text/x-python",
   "name": "python",
   "nbconvert_exporter": "python",
   "pygments_lexer": "ipython3",
   "version": "3.12.7"
  }
 },
 "nbformat": 4,
 "nbformat_minor": 5
}
