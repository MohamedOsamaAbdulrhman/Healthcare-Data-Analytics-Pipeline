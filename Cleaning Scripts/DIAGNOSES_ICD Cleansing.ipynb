{
 "cells": [
  {
   "cell_type": "code",
   "execution_count": 1,
   "id": "ea359213-ba09-4882-ba87-d422e94e71b6",
   "metadata": {},
   "outputs": [
    {
     "name": "stdout",
     "output_type": "stream",
     "text": [
      "Remaining NaN values:\n",
      "row_id        0\n",
      "subject_id    0\n",
      "hadm_id       0\n",
      "seq_num       0\n",
      "icd9_code     0\n",
      "dtype: int64\n",
      "row_id: int64\n",
      "subject_id: int64\n",
      "hadm_id: int64\n",
      "seq_num: int64\n",
      "icd9_code: dictionary<values=string, indices=int16, ordered=0>\n",
      "-- schema metadata --\n",
      "pandas: '{\"index_columns\": [{\"kind\": \"range\", \"name\": null, \"start\": 0, \"' + 868\n"
     ]
    }
   ],
   "source": [
    "import pandas as pd\n",
    "import pyarrow.parquet as pq\n",
    "import pyarrow as pa\n",
    "\n",
    "# Read the CSV file\n",
    "df = pd.read_csv(r'F:\\ITI\\Big Data\\Project\\mimic-iii-clinical-database-demo-1.4\\DIAGNOSES_ICD.csv')\n",
    "\n",
    "# Fill missing seq_num with -1 and convert to nullable Int64\n",
    "df['seq_num'] = pd.to_numeric(df['seq_num'], errors='coerce').fillna(-1).astype('Int64')\n",
    "\n",
    "# Fill missing icd9_code with 'Unknown' and cast to category\n",
    "df['icd9_code'] = df['icd9_code'].fillna('Unknown').astype('category')\n",
    "\n",
    "# Check for remaining nulls\n",
    "print(\"Remaining NaN values:\")\n",
    "print(df.isna().sum())\n",
    "\n",
    "# Convert to Arrow Table\n",
    "table = pa.Table.from_pandas(df)\n",
    "\n",
    "# Save as Parquet in same directory\n",
    "pq.write_table(table, r'F:\\ITI\\Big Data\\Project\\mimic-iii-clinical-database-demo-1.4\\DIAGNOSES_ICD.parquet')\n",
    "\n",
    "# Print schema\n",
    "print(table.schema)"
   ]
  },
  {
   "cell_type": "code",
   "execution_count": null,
   "id": "09ac3738-43de-4a80-97fc-fd2a4029739c",
   "metadata": {},
   "outputs": [],
   "source": []
  }
 ],
 "metadata": {
  "kernelspec": {
   "display_name": "Python 3 (ipykernel)",
   "language": "python",
   "name": "python3"
  },
  "language_info": {
   "codemirror_mode": {
    "name": "ipython",
    "version": 3
   },
   "file_extension": ".py",
   "mimetype": "text/x-python",
   "name": "python",
   "nbconvert_exporter": "python",
   "pygments_lexer": "ipython3",
   "version": "3.12.7"
  }
 },
 "nbformat": 4,
 "nbformat_minor": 5
}
